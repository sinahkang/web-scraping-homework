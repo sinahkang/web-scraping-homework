{
 "cells": [
  {
   "cell_type": "code",
   "execution_count": 1,
   "metadata": {},
   "outputs": [],
   "source": [
    "## Dependencies\n",
    "\n",
    "import requests\n",
    "import pandas as pd\n",
    "from bs4 import BeautifulSoup\n",
    "from selenium import webdriver"
   ]
  },
  {
   "cell_type": "code",
   "execution_count": 2,
   "metadata": {},
   "outputs": [
    {
     "data": {
      "text/plain": [
       "'The pair of briefcase-sized satellites made history when they sailed past Mars in 2019.'"
      ]
     },
     "execution_count": 2,
     "metadata": {},
     "output_type": "execute_result"
    }
   ],
   "source": [
    "## Mars News\n",
    "\n",
    "BASE_URL = \"https://mars.nasa.gov/news/\"\n",
    "FILE = \"html-selenium.txt\"\n",
    "FILE_WAIT = \"html-selenium-wait.txt\"\n",
    "\n",
    "driver = webdriver.Firefox()\n",
    "driver.get(BASE_URL)\n",
    "html = driver.page_source\n",
    "driver.implicitly_wait(10)\n",
    "driver.close()\n",
    "\n",
    "with open(FILE_WAIT, \"w+\", encoding=\"utf-8\") as f:\n",
    "    f.write(html)\n",
    "\n",
    "news_soup = BeautifulSoup(html, \"html.parser\")\n",
    "\n",
    "mars_news_title = news_soup.find(\"div\", class_=\"content_title\").a.text\n",
    "mars_news_p = news_soup.find(\"div\", class_=\"article_teaser_body\").text\n",
    "\n",
    "mars_news_title\n",
    "mars_news_p\n"
   ]
  },
  {
   "cell_type": "code",
   "execution_count": 3,
   "metadata": {},
   "outputs": [
    {
     "data": {
      "text/plain": [
       "'https://www.jpl.nasa.gov/spaceimages/images/wallpaper/PIA23707-640x350.jpg'"
      ]
     },
     "execution_count": 3,
     "metadata": {},
     "output_type": "execute_result"
    }
   ],
   "source": [
    "## Mars Image\n",
    "\n",
    "image_url = \"https://www.jpl.nasa.gov/spaceimages/?search=&category=Mars\"\n",
    "image_html = requests.get(image_url).text\n",
    "image_soup = BeautifulSoup(image_html, \"html.parser\")\n",
    "\n",
    "featured_image_url = image_soup.find(\"div\", class_=\"img\").img[\"src\"]\n",
    "mars_image = \"https://www.jpl.nasa.gov\" + featured_image_url\n",
    "\n",
    "mars_image"
   ]
  },
  {
   "cell_type": "code",
   "execution_count": 4,
   "metadata": {},
   "outputs": [
    {
     "data": {
      "text/plain": [
       "'InSight sol 447 (2020-02-28) low -92.6ºC (-134.6ºF) high -11.1ºC (12.0ºF)\\nwinds from the SSW at 5.8 m/s (13.1 mph) gusting to 20.2 m/s (45.2 mph)\\npressure at 6.30 hPapic.twitter.com/fKd4VPHImB'"
      ]
     },
     "execution_count": 4,
     "metadata": {},
     "output_type": "execute_result"
    }
   ],
   "source": [
    "## Mars Weather \n",
    "\n",
    "weather_url = \"https://twitter.com/marswxreport?lang=en\"\n",
    "weather_html = requests.get(weather_url).text\n",
    "weather_soup = BeautifulSoup(weather_html, \"html.parser\")\n",
    "\n",
    "mars_weather = weather_soup.find(\"p\", class_=\"TweetTextSize TweetTextSize--normal js-tweet-text tweet-text\").text\n",
    "mars_weather"
   ]
  },
  {
   "cell_type": "code",
   "execution_count": 7,
   "metadata": {},
   "outputs": [
    {
     "data": {
      "text/plain": [
       "'<table border=\"1\" class=\"dataframe\">\\n  <thead>\\n    <tr style=\"text-align: right;\">\\n      <th></th>\\n      <th>0</th>\\n      <th>1</th>\\n    </tr>\\n  </thead>\\n  <tbody>\\n    <tr>\\n      <th>0</th>\\n      <td>Equatorial Diameter:</td>\\n      <td>6,792 km</td>\\n    </tr>\\n    <tr>\\n      <th>1</th>\\n      <td>Polar Diameter:</td>\\n      <td>6,752 km</td>\\n    </tr>\\n    <tr>\\n      <th>2</th>\\n      <td>Mass:</td>\\n      <td>6.39 × 10^23 kg (0.11 Earths)</td>\\n    </tr>\\n    <tr>\\n      <th>3</th>\\n      <td>Moons:</td>\\n      <td>2 (Phobos &amp; Deimos)</td>\\n    </tr>\\n    <tr>\\n      <th>4</th>\\n      <td>Orbit Distance:</td>\\n      <td>227,943,824 km (1.38 AU)</td>\\n    </tr>\\n    <tr>\\n      <th>5</th>\\n      <td>Orbit Period:</td>\\n      <td>687 days (1.9 years)</td>\\n    </tr>\\n    <tr>\\n      <th>6</th>\\n      <td>Surface Temperature:</td>\\n      <td>-87 to -5 °C</td>\\n    </tr>\\n    <tr>\\n      <th>7</th>\\n      <td>First Record:</td>\\n      <td>2nd millennium BC</td>\\n    </tr>\\n    <tr>\\n      <th>8</th>\\n      <td>Recorded By:</td>\\n      <td>Egyptian astronomers</td>\\n    </tr>\\n  </tbody>\\n</table>'"
      ]
     },
     "execution_count": 7,
     "metadata": {},
     "output_type": "execute_result"
    }
   ],
   "source": [
    "## Mars Facts\n",
    "\n",
    "facts_url = \"http://space-facts.com/mars/\"\n",
    "facts_html = requests.get(facts_url).text \n",
    "dfs = pd.read_html(facts_html)\n",
    "\n",
    "mars_df = dfs[0]\n",
    "mars_facts = mars_df.to_html()\n",
    "\n",
    "mars_facts"
   ]
  },
  {
   "cell_type": "code",
   "execution_count": 6,
   "metadata": {},
   "outputs": [
    {
     "data": {
      "text/plain": [
       "[{'title': 'Cerberus Hemisphere Enhanced',\n",
       "  'img_url': 'https://astrogeology.usgs.gov/cache/images/cfa62af2557222a02478f1fcd781d445_cerberus_enhanced.tif_full.jpg'},\n",
       " {'title': 'Schiaparelli Hemisphere Enhanced',\n",
       "  'img_url': 'https://astrogeology.usgs.gov/cache/images/3cdd1cbf5e0813bba925c9030d13b62e_schiaparelli_enhanced.tif_full.jpg'},\n",
       " {'title': 'Syrtis Major Hemisphere Enhanced',\n",
       "  'img_url': 'https://astrogeology.usgs.gov/cache/images/ae209b4e408bb6c3e67b6af38168cf28_syrtis_major_enhanced.tif_full.jpg'},\n",
       " {'title': 'Valles Marineris Hemisphere Enhanced',\n",
       "  'img_url': 'https://astrogeology.usgs.gov/cache/images/7cf2da4bf549ed01c17f206327be4db7_valles_marineris_enhanced.tif_full.jpg'}]"
      ]
     },
     "execution_count": 6,
     "metadata": {},
     "output_type": "execute_result"
    }
   ],
   "source": [
    "## Mars Hemispheres (the images load fine with requests so I did not use selenium)\n",
    "\n",
    "hemispheres = [\"cerberus\", \"schiaparelli\", \"syrtis_major\", \"valles_marineris\"]\n",
    "mars_hemispheres = [] \n",
    "\n",
    "for hemisphere in hemispheres:\n",
    "    url = \"https://astrogeology.usgs.gov/search/map/Mars/Viking/\" + f\"{hemisphere}_enhanced\"\n",
    "    html = requests.get(url).text\n",
    "    soup = BeautifulSoup(html, \"html.parser\")\n",
    "    \n",
    "    img = soup.find(\"img\", class_=\"wide-image\")[\"src\"]\n",
    "    title = soup.find(\"h2\", class_=\"title\").text\n",
    "    \n",
    "    hemispheres_dict = {\"title\": title, \"img_url\": \"https://astrogeology.usgs.gov\" + img}\n",
    "    \n",
    "    mars_hemispheres.append(hemispheres_dict)\n",
    "    \n",
    "mars_hemispheres"
   ]
  },
  {
   "cell_type": "code",
   "execution_count": null,
   "metadata": {},
   "outputs": [],
   "source": []
  }
 ],
 "metadata": {
  "kernelspec": {
   "display_name": "webscraping_env",
   "language": "python",
   "name": "webscraping_env"
  },
  "language_info": {
   "codemirror_mode": {
    "name": "ipython",
    "version": 3
   },
   "file_extension": ".py",
   "mimetype": "text/x-python",
   "name": "python",
   "nbconvert_exporter": "python",
   "pygments_lexer": "ipython3",
   "version": "3.7.5"
  }
 },
 "nbformat": 4,
 "nbformat_minor": 4
}
